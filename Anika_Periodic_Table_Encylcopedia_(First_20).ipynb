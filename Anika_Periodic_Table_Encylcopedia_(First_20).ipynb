{
  "cells": [
    {
      "cell_type": "markdown",
      "metadata": {
        "id": "view-in-github",
        "colab_type": "text"
      },
      "source": [
        "<a href=\"https://colab.research.google.com/github/anixa-s/summer-of-science/blob/main/Anika_Periodic_Table_Encylcopedia_(First_20).ipynb\" target=\"_parent\"><img src=\"https://colab.research.google.com/assets/colab-badge.svg\" alt=\"Open In Colab\"/></a>"
      ]
    },
    {
      "cell_type": "code",
      "execution_count": null,
      "metadata": {
        "colab": {
          "base_uri": "https://localhost:8080/"
        },
        "id": "41jF6Rx6otBD",
        "outputId": "2e890ab8-8de5-4c4e-9671-af0875a74a48"
      },
      "outputs": [
        {
          "output_type": "stream",
          "name": "stdout",
          "text": [
            "Enter the element name you want to learn more about, remember it can only be the first 20 (or type 'end' to exit): Aluminum\n",
            "\n",
            "Here is the chemical profile of Aluminum\n",
            "Chemical Symbol: Al\n",
            "Number of Protons: 13\n",
            "Atomic Mass: 26.982\n",
            "Melting Point (°C): 660.32\n",
            "Boiling Point (°C): 2470\n",
            "Chemical Family: Post-transition metals\n",
            "Discovery Year: 1825\n",
            "Discovered By: Hans Christian Orsted\n",
            "\n",
            "\n",
            "Enter the element name you want to learn more about, remember it can only be the first 20 (or type 'end' to exit): end\n",
            "\n",
            "Thank you for visiting the Periodic Table Encyclopedia! I hope you learned something new :)\n"
          ]
        }
      ],
      "source": [
        "import csv\n",
        "\n",
        "# Loading the CSV file by assigning it to variable \"file_path\"\n",
        "file_path = '/content/sample_data/Data_Science_Project2.csv'\n",
        "\n",
        "# Reads the CSV file into a list of dictionaries\n",
        "with open(file_path, mode='r') as file:\n",
        "    reader = csv.DictReader(file, delimiter = \"|\")\n",
        "    elements = list(reader)\n",
        "\n",
        "# Loops to ask user for element_name and print corresponding row\n",
        "while True:\n",
        "    user_input = input(\"Enter the element name you want to learn more about, remember it can only be the first 20 (or type 'end' to exit): \").strip()\n",
        "\n",
        "    if user_input.lower() == 'end':\n",
        "        break\n",
        "\n",
        "    # Finding and printing the row that matches the element_name\n",
        "    found = False\n",
        "    for element in elements:\n",
        "        if element['Element_Name'].lower() == user_input.lower():\n",
        "            print(f\"\\nHere is the chemical profile of {element['Element_Name']}\\nChemical Symbol: {element['Chem_Symbol']}\\n\"f\"Number of Protons: {element['Num_of_Protons']}\\nAtomic Mass: {element['Atomic_Mass']}\\nMelting Point (°C): {element['Melting_Point']}\\nBoiling Point (°C): {element['Boiling_Point']}\\n\"f\"Chemical Family: {element['Chem_Family']}\\nDiscovery Year: {element['Discovery_Year']}\\n\"f\"Discovered By: {element['Discovered_By']}\\n\\n\")\n",
        "            found = True\n",
        "            break\n",
        "\n",
        "    if not found:\n",
        "        print(\"Invalid term or element does not exist.\\n\\n\")\n",
        "\n",
        "print(\"\\nThank you for visiting the Periodic Table Encyclopedia! I hope you learned something new :)\")"
      ]
    }
  ],
  "metadata": {
    "colab": {
      "provenance": [],
      "include_colab_link": true
    },
    "kernelspec": {
      "display_name": "Python 3",
      "name": "python3"
    },
    "language_info": {
      "name": "python"
    }
  },
  "nbformat": 4,
  "nbformat_minor": 0
}